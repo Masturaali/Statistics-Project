{
  "cells": [
    {
      "cell_type": "markdown",
      "metadata": {
        "id": "view-in-github",
        "colab_type": "text"
      },
      "source": [
        "<a href=\"https://colab.research.google.com/github/Masturaali/Statistics-Project/blob/main/project_week1_checkpoint.ipynb\" target=\"_parent\"><img src=\"https://colab.research.google.com/assets/colab-badge.svg\" alt=\"Open In Colab\"/></a>"
      ]
    },
    {
      "cell_type": "code",
      "execution_count": 5,
      "id": "aa9ceeb3",
      "metadata": {
        "id": "aa9ceeb3"
      },
      "outputs": [],
      "source": [
        "import numpy as np\n",
        "import seaborn as sns\n",
        "import pandas as pd\n",
        "import scipy.stats as st\n",
        "import matplotlib.pyplot as plt"
      ]
    },
    {
      "cell_type": "code",
      "execution_count": 8,
      "id": "e87f6f38",
      "metadata": {
        "id": "e87f6f38"
      },
      "outputs": [],
      "source": [
        "h='https://raw.githubusercontent.com/Masturaali/Statistics-Project/main/book1.csv'\n",
        "mydata=pd.read_csv(h)"
      ]
    },
    {
      "cell_type": "code",
      "execution_count": 7,
      "id": "69e2c9d9",
      "metadata": {
        "id": "69e2c9d9",
        "outputId": "3b4f95fa-5985-4176-90d5-975963acb9a1",
        "colab": {
          "base_uri": "https://localhost:8080/",
          "height": 514
        }
      },
      "outputs": [
        {
          "output_type": "execute_result",
          "data": {
            "text/plain": [
              "    Gender  Age Material state     City  Year of graduate  \\\n",
              "0   Female   26         Single  Slemani              2018   \n",
              "1   Female   24        Married  Slemani              2020   \n",
              "2   Female   31         Single  Slemani              2013   \n",
              "3     Male   30         Single  Slemani              2014   \n",
              "4     Male   27         Single  Slemani              2017   \n",
              "5     Male   24        Married  Slemani              2020   \n",
              "6     Male   23        Married  Slemani              2021   \n",
              "7   Female   26         Single  Slemani              2018   \n",
              "8   Female   25        Married  Slemani              2019   \n",
              "9     Male   31         Single  Slemani              2013   \n",
              "10    Male   29        Married  Slemani              2015   \n",
              "11  Female   24        Married  Slemani              2020   \n",
              "12  Female   23         Single  Slemani              2021   \n",
              "13  Female   26         Single  Slemani              2018   \n",
              "14  Female   25        Married  Slemani              2019   \n",
              "\n",
              "        College Gratuation Job specilization  \n",
              "0         Computer Science   Web Development  \n",
              "1      Database technology              DBMS  \n",
              "2   Information Technology  Graphic Designer  \n",
              "3         Computer Science   Web Development  \n",
              "4         Computer Science   Web Development  \n",
              "5   Information Technology  Graphic Designer  \n",
              "6      Database technology              DBMS  \n",
              "7      Database technology              DBMS  \n",
              "8         Computer Science   Web Development  \n",
              "9   Information Technology  Graphic Designer  \n",
              "10        Computer Science   Web Development  \n",
              "11     Database technology              DBMS  \n",
              "12  Information Technology  Graphic Designer  \n",
              "13  Information Technology  Graphic Designer  \n",
              "14     Database technology              DBMS  "
            ],
            "text/html": [
              "\n",
              "  <div id=\"df-87f429ab-ab2b-4b1f-88e9-176ef20b8dbf\">\n",
              "    <div class=\"colab-df-container\">\n",
              "      <div>\n",
              "<style scoped>\n",
              "    .dataframe tbody tr th:only-of-type {\n",
              "        vertical-align: middle;\n",
              "    }\n",
              "\n",
              "    .dataframe tbody tr th {\n",
              "        vertical-align: top;\n",
              "    }\n",
              "\n",
              "    .dataframe thead th {\n",
              "        text-align: right;\n",
              "    }\n",
              "</style>\n",
              "<table border=\"1\" class=\"dataframe\">\n",
              "  <thead>\n",
              "    <tr style=\"text-align: right;\">\n",
              "      <th></th>\n",
              "      <th>Gender</th>\n",
              "      <th>Age</th>\n",
              "      <th>Material state</th>\n",
              "      <th>City</th>\n",
              "      <th>Year of graduate</th>\n",
              "      <th>College Gratuation</th>\n",
              "      <th>Job specilization</th>\n",
              "    </tr>\n",
              "  </thead>\n",
              "  <tbody>\n",
              "    <tr>\n",
              "      <th>0</th>\n",
              "      <td>Female</td>\n",
              "      <td>26</td>\n",
              "      <td>Single</td>\n",
              "      <td>Slemani</td>\n",
              "      <td>2018</td>\n",
              "      <td>Computer Science</td>\n",
              "      <td>Web Development</td>\n",
              "    </tr>\n",
              "    <tr>\n",
              "      <th>1</th>\n",
              "      <td>Female</td>\n",
              "      <td>24</td>\n",
              "      <td>Married</td>\n",
              "      <td>Slemani</td>\n",
              "      <td>2020</td>\n",
              "      <td>Database technology</td>\n",
              "      <td>DBMS</td>\n",
              "    </tr>\n",
              "    <tr>\n",
              "      <th>2</th>\n",
              "      <td>Female</td>\n",
              "      <td>31</td>\n",
              "      <td>Single</td>\n",
              "      <td>Slemani</td>\n",
              "      <td>2013</td>\n",
              "      <td>Information Technology</td>\n",
              "      <td>Graphic Designer</td>\n",
              "    </tr>\n",
              "    <tr>\n",
              "      <th>3</th>\n",
              "      <td>Male</td>\n",
              "      <td>30</td>\n",
              "      <td>Single</td>\n",
              "      <td>Slemani</td>\n",
              "      <td>2014</td>\n",
              "      <td>Computer Science</td>\n",
              "      <td>Web Development</td>\n",
              "    </tr>\n",
              "    <tr>\n",
              "      <th>4</th>\n",
              "      <td>Male</td>\n",
              "      <td>27</td>\n",
              "      <td>Single</td>\n",
              "      <td>Slemani</td>\n",
              "      <td>2017</td>\n",
              "      <td>Computer Science</td>\n",
              "      <td>Web Development</td>\n",
              "    </tr>\n",
              "    <tr>\n",
              "      <th>5</th>\n",
              "      <td>Male</td>\n",
              "      <td>24</td>\n",
              "      <td>Married</td>\n",
              "      <td>Slemani</td>\n",
              "      <td>2020</td>\n",
              "      <td>Information Technology</td>\n",
              "      <td>Graphic Designer</td>\n",
              "    </tr>\n",
              "    <tr>\n",
              "      <th>6</th>\n",
              "      <td>Male</td>\n",
              "      <td>23</td>\n",
              "      <td>Married</td>\n",
              "      <td>Slemani</td>\n",
              "      <td>2021</td>\n",
              "      <td>Database technology</td>\n",
              "      <td>DBMS</td>\n",
              "    </tr>\n",
              "    <tr>\n",
              "      <th>7</th>\n",
              "      <td>Female</td>\n",
              "      <td>26</td>\n",
              "      <td>Single</td>\n",
              "      <td>Slemani</td>\n",
              "      <td>2018</td>\n",
              "      <td>Database technology</td>\n",
              "      <td>DBMS</td>\n",
              "    </tr>\n",
              "    <tr>\n",
              "      <th>8</th>\n",
              "      <td>Female</td>\n",
              "      <td>25</td>\n",
              "      <td>Married</td>\n",
              "      <td>Slemani</td>\n",
              "      <td>2019</td>\n",
              "      <td>Computer Science</td>\n",
              "      <td>Web Development</td>\n",
              "    </tr>\n",
              "    <tr>\n",
              "      <th>9</th>\n",
              "      <td>Male</td>\n",
              "      <td>31</td>\n",
              "      <td>Single</td>\n",
              "      <td>Slemani</td>\n",
              "      <td>2013</td>\n",
              "      <td>Information Technology</td>\n",
              "      <td>Graphic Designer</td>\n",
              "    </tr>\n",
              "    <tr>\n",
              "      <th>10</th>\n",
              "      <td>Male</td>\n",
              "      <td>29</td>\n",
              "      <td>Married</td>\n",
              "      <td>Slemani</td>\n",
              "      <td>2015</td>\n",
              "      <td>Computer Science</td>\n",
              "      <td>Web Development</td>\n",
              "    </tr>\n",
              "    <tr>\n",
              "      <th>11</th>\n",
              "      <td>Female</td>\n",
              "      <td>24</td>\n",
              "      <td>Married</td>\n",
              "      <td>Slemani</td>\n",
              "      <td>2020</td>\n",
              "      <td>Database technology</td>\n",
              "      <td>DBMS</td>\n",
              "    </tr>\n",
              "    <tr>\n",
              "      <th>12</th>\n",
              "      <td>Female</td>\n",
              "      <td>23</td>\n",
              "      <td>Single</td>\n",
              "      <td>Slemani</td>\n",
              "      <td>2021</td>\n",
              "      <td>Information Technology</td>\n",
              "      <td>Graphic Designer</td>\n",
              "    </tr>\n",
              "    <tr>\n",
              "      <th>13</th>\n",
              "      <td>Female</td>\n",
              "      <td>26</td>\n",
              "      <td>Single</td>\n",
              "      <td>Slemani</td>\n",
              "      <td>2018</td>\n",
              "      <td>Information Technology</td>\n",
              "      <td>Graphic Designer</td>\n",
              "    </tr>\n",
              "    <tr>\n",
              "      <th>14</th>\n",
              "      <td>Female</td>\n",
              "      <td>25</td>\n",
              "      <td>Married</td>\n",
              "      <td>Slemani</td>\n",
              "      <td>2019</td>\n",
              "      <td>Database technology</td>\n",
              "      <td>DBMS</td>\n",
              "    </tr>\n",
              "  </tbody>\n",
              "</table>\n",
              "</div>\n",
              "      <button class=\"colab-df-convert\" onclick=\"convertToInteractive('df-87f429ab-ab2b-4b1f-88e9-176ef20b8dbf')\"\n",
              "              title=\"Convert this dataframe to an interactive table.\"\n",
              "              style=\"display:none;\">\n",
              "        \n",
              "  <svg xmlns=\"http://www.w3.org/2000/svg\" height=\"24px\"viewBox=\"0 0 24 24\"\n",
              "       width=\"24px\">\n",
              "    <path d=\"M0 0h24v24H0V0z\" fill=\"none\"/>\n",
              "    <path d=\"M18.56 5.44l.94 2.06.94-2.06 2.06-.94-2.06-.94-.94-2.06-.94 2.06-2.06.94zm-11 1L8.5 8.5l.94-2.06 2.06-.94-2.06-.94L8.5 2.5l-.94 2.06-2.06.94zm10 10l.94 2.06.94-2.06 2.06-.94-2.06-.94-.94-2.06-.94 2.06-2.06.94z\"/><path d=\"M17.41 7.96l-1.37-1.37c-.4-.4-.92-.59-1.43-.59-.52 0-1.04.2-1.43.59L10.3 9.45l-7.72 7.72c-.78.78-.78 2.05 0 2.83L4 21.41c.39.39.9.59 1.41.59.51 0 1.02-.2 1.41-.59l7.78-7.78 2.81-2.81c.8-.78.8-2.07 0-2.86zM5.41 20L4 18.59l7.72-7.72 1.47 1.35L5.41 20z\"/>\n",
              "  </svg>\n",
              "      </button>\n",
              "      \n",
              "  <style>\n",
              "    .colab-df-container {\n",
              "      display:flex;\n",
              "      flex-wrap:wrap;\n",
              "      gap: 12px;\n",
              "    }\n",
              "\n",
              "    .colab-df-convert {\n",
              "      background-color: #E8F0FE;\n",
              "      border: none;\n",
              "      border-radius: 50%;\n",
              "      cursor: pointer;\n",
              "      display: none;\n",
              "      fill: #1967D2;\n",
              "      height: 32px;\n",
              "      padding: 0 0 0 0;\n",
              "      width: 32px;\n",
              "    }\n",
              "\n",
              "    .colab-df-convert:hover {\n",
              "      background-color: #E2EBFA;\n",
              "      box-shadow: 0px 1px 2px rgba(60, 64, 67, 0.3), 0px 1px 3px 1px rgba(60, 64, 67, 0.15);\n",
              "      fill: #174EA6;\n",
              "    }\n",
              "\n",
              "    [theme=dark] .colab-df-convert {\n",
              "      background-color: #3B4455;\n",
              "      fill: #D2E3FC;\n",
              "    }\n",
              "\n",
              "    [theme=dark] .colab-df-convert:hover {\n",
              "      background-color: #434B5C;\n",
              "      box-shadow: 0px 1px 3px 1px rgba(0, 0, 0, 0.15);\n",
              "      filter: drop-shadow(0px 1px 2px rgba(0, 0, 0, 0.3));\n",
              "      fill: #FFFFFF;\n",
              "    }\n",
              "  </style>\n",
              "\n",
              "      <script>\n",
              "        const buttonEl =\n",
              "          document.querySelector('#df-87f429ab-ab2b-4b1f-88e9-176ef20b8dbf button.colab-df-convert');\n",
              "        buttonEl.style.display =\n",
              "          google.colab.kernel.accessAllowed ? 'block' : 'none';\n",
              "\n",
              "        async function convertToInteractive(key) {\n",
              "          const element = document.querySelector('#df-87f429ab-ab2b-4b1f-88e9-176ef20b8dbf');\n",
              "          const dataTable =\n",
              "            await google.colab.kernel.invokeFunction('convertToInteractive',\n",
              "                                                     [key], {});\n",
              "          if (!dataTable) return;\n",
              "\n",
              "          const docLinkHtml = 'Like what you see? Visit the ' +\n",
              "            '<a target=\"_blank\" href=https://colab.research.google.com/notebooks/data_table.ipynb>data table notebook</a>'\n",
              "            + ' to learn more about interactive tables.';\n",
              "          element.innerHTML = '';\n",
              "          dataTable['output_type'] = 'display_data';\n",
              "          await google.colab.output.renderOutput(dataTable, element);\n",
              "          const docLink = document.createElement('div');\n",
              "          docLink.innerHTML = docLinkHtml;\n",
              "          element.appendChild(docLink);\n",
              "        }\n",
              "      </script>\n",
              "    </div>\n",
              "  </div>\n",
              "  "
            ]
          },
          "metadata": {},
          "execution_count": 7
        }
      ],
      "source": [
        "mydata.head(15)"
      ]
    },
    {
      "cell_type": "code",
      "execution_count": null,
      "id": "9ce83162",
      "metadata": {
        "id": "9ce83162",
        "outputId": "3e91f05b-3dd3-48a0-fd66-3442ccef6c3d",
        "colab": {
          "base_uri": "https://localhost:8080/"
        }
      },
      "outputs": [
        {
          "output_type": "stream",
          "name": "stdout",
          "text": [
            "<class 'pandas.core.frame.DataFrame'>\n",
            "RangeIndex: 544 entries, 0 to 543\n",
            "Data columns (total 7 columns):\n",
            " #   Column              Non-Null Count  Dtype \n",
            "---  ------              --------------  ----- \n",
            " 0   Gender              544 non-null    object\n",
            " 1   Age                 544 non-null    int64 \n",
            " 2   Material state      544 non-null    object\n",
            " 3   City                544 non-null    object\n",
            " 4   Year of graduate    544 non-null    int64 \n",
            " 5   College Gratuation  544 non-null    object\n",
            " 6   Job specilization   544 non-null    object\n",
            "dtypes: int64(2), object(5)\n",
            "memory usage: 29.9+ KB\n"
          ]
        }
      ],
      "source": [
        "mydata.info()"
      ]
    },
    {
      "cell_type": "code",
      "execution_count": null,
      "id": "1495fd80",
      "metadata": {
        "id": "1495fd80",
        "outputId": "81c7fa8d-681d-4735-a6c5-4e58c66a68df",
        "colab": {
          "base_uri": "https://localhost:8080/",
          "height": 143
        }
      },
      "outputs": [
        {
          "output_type": "execute_result",
          "data": {
            "text/plain": [
              "Age     23  24  25  26  27  28  29  30  31\n",
              "Gender                                    \n",
              "Female  29  27  29  33  22  24  12  17  23\n",
              "Male    40  39  33  42  37  32  32  28  45"
            ],
            "text/html": [
              "\n",
              "  <div id=\"df-d69399bb-99ac-4bae-8992-734b6b72cffa\">\n",
              "    <div class=\"colab-df-container\">\n",
              "      <div>\n",
              "<style scoped>\n",
              "    .dataframe tbody tr th:only-of-type {\n",
              "        vertical-align: middle;\n",
              "    }\n",
              "\n",
              "    .dataframe tbody tr th {\n",
              "        vertical-align: top;\n",
              "    }\n",
              "\n",
              "    .dataframe thead th {\n",
              "        text-align: right;\n",
              "    }\n",
              "</style>\n",
              "<table border=\"1\" class=\"dataframe\">\n",
              "  <thead>\n",
              "    <tr style=\"text-align: right;\">\n",
              "      <th>Age</th>\n",
              "      <th>23</th>\n",
              "      <th>24</th>\n",
              "      <th>25</th>\n",
              "      <th>26</th>\n",
              "      <th>27</th>\n",
              "      <th>28</th>\n",
              "      <th>29</th>\n",
              "      <th>30</th>\n",
              "      <th>31</th>\n",
              "    </tr>\n",
              "    <tr>\n",
              "      <th>Gender</th>\n",
              "      <th></th>\n",
              "      <th></th>\n",
              "      <th></th>\n",
              "      <th></th>\n",
              "      <th></th>\n",
              "      <th></th>\n",
              "      <th></th>\n",
              "      <th></th>\n",
              "      <th></th>\n",
              "    </tr>\n",
              "  </thead>\n",
              "  <tbody>\n",
              "    <tr>\n",
              "      <th>Female</th>\n",
              "      <td>29</td>\n",
              "      <td>27</td>\n",
              "      <td>29</td>\n",
              "      <td>33</td>\n",
              "      <td>22</td>\n",
              "      <td>24</td>\n",
              "      <td>12</td>\n",
              "      <td>17</td>\n",
              "      <td>23</td>\n",
              "    </tr>\n",
              "    <tr>\n",
              "      <th>Male</th>\n",
              "      <td>40</td>\n",
              "      <td>39</td>\n",
              "      <td>33</td>\n",
              "      <td>42</td>\n",
              "      <td>37</td>\n",
              "      <td>32</td>\n",
              "      <td>32</td>\n",
              "      <td>28</td>\n",
              "      <td>45</td>\n",
              "    </tr>\n",
              "  </tbody>\n",
              "</table>\n",
              "</div>\n",
              "      <button class=\"colab-df-convert\" onclick=\"convertToInteractive('df-d69399bb-99ac-4bae-8992-734b6b72cffa')\"\n",
              "              title=\"Convert this dataframe to an interactive table.\"\n",
              "              style=\"display:none;\">\n",
              "        \n",
              "  <svg xmlns=\"http://www.w3.org/2000/svg\" height=\"24px\"viewBox=\"0 0 24 24\"\n",
              "       width=\"24px\">\n",
              "    <path d=\"M0 0h24v24H0V0z\" fill=\"none\"/>\n",
              "    <path d=\"M18.56 5.44l.94 2.06.94-2.06 2.06-.94-2.06-.94-.94-2.06-.94 2.06-2.06.94zm-11 1L8.5 8.5l.94-2.06 2.06-.94-2.06-.94L8.5 2.5l-.94 2.06-2.06.94zm10 10l.94 2.06.94-2.06 2.06-.94-2.06-.94-.94-2.06-.94 2.06-2.06.94z\"/><path d=\"M17.41 7.96l-1.37-1.37c-.4-.4-.92-.59-1.43-.59-.52 0-1.04.2-1.43.59L10.3 9.45l-7.72 7.72c-.78.78-.78 2.05 0 2.83L4 21.41c.39.39.9.59 1.41.59.51 0 1.02-.2 1.41-.59l7.78-7.78 2.81-2.81c.8-.78.8-2.07 0-2.86zM5.41 20L4 18.59l7.72-7.72 1.47 1.35L5.41 20z\"/>\n",
              "  </svg>\n",
              "      </button>\n",
              "      \n",
              "  <style>\n",
              "    .colab-df-container {\n",
              "      display:flex;\n",
              "      flex-wrap:wrap;\n",
              "      gap: 12px;\n",
              "    }\n",
              "\n",
              "    .colab-df-convert {\n",
              "      background-color: #E8F0FE;\n",
              "      border: none;\n",
              "      border-radius: 50%;\n",
              "      cursor: pointer;\n",
              "      display: none;\n",
              "      fill: #1967D2;\n",
              "      height: 32px;\n",
              "      padding: 0 0 0 0;\n",
              "      width: 32px;\n",
              "    }\n",
              "\n",
              "    .colab-df-convert:hover {\n",
              "      background-color: #E2EBFA;\n",
              "      box-shadow: 0px 1px 2px rgba(60, 64, 67, 0.3), 0px 1px 3px 1px rgba(60, 64, 67, 0.15);\n",
              "      fill: #174EA6;\n",
              "    }\n",
              "\n",
              "    [theme=dark] .colab-df-convert {\n",
              "      background-color: #3B4455;\n",
              "      fill: #D2E3FC;\n",
              "    }\n",
              "\n",
              "    [theme=dark] .colab-df-convert:hover {\n",
              "      background-color: #434B5C;\n",
              "      box-shadow: 0px 1px 3px 1px rgba(0, 0, 0, 0.15);\n",
              "      filter: drop-shadow(0px 1px 2px rgba(0, 0, 0, 0.3));\n",
              "      fill: #FFFFFF;\n",
              "    }\n",
              "  </style>\n",
              "\n",
              "      <script>\n",
              "        const buttonEl =\n",
              "          document.querySelector('#df-d69399bb-99ac-4bae-8992-734b6b72cffa button.colab-df-convert');\n",
              "        buttonEl.style.display =\n",
              "          google.colab.kernel.accessAllowed ? 'block' : 'none';\n",
              "\n",
              "        async function convertToInteractive(key) {\n",
              "          const element = document.querySelector('#df-d69399bb-99ac-4bae-8992-734b6b72cffa');\n",
              "          const dataTable =\n",
              "            await google.colab.kernel.invokeFunction('convertToInteractive',\n",
              "                                                     [key], {});\n",
              "          if (!dataTable) return;\n",
              "\n",
              "          const docLinkHtml = 'Like what you see? Visit the ' +\n",
              "            '<a target=\"_blank\" href=https://colab.research.google.com/notebooks/data_table.ipynb>data table notebook</a>'\n",
              "            + ' to learn more about interactive tables.';\n",
              "          element.innerHTML = '';\n",
              "          dataTable['output_type'] = 'display_data';\n",
              "          await google.colab.output.renderOutput(dataTable, element);\n",
              "          const docLink = document.createElement('div');\n",
              "          docLink.innerHTML = docLinkHtml;\n",
              "          element.appendChild(docLink);\n",
              "        }\n",
              "      </script>\n",
              "    </div>\n",
              "  </div>\n",
              "  "
            ]
          },
          "metadata": {},
          "execution_count": 11
        }
      ],
      "source": [
        "pd.crosstab(mydata['Gender'], mydata['Age'])"
      ]
    },
    {
      "cell_type": "code",
      "execution_count": null,
      "id": "44b8620b",
      "metadata": {
        "id": "44b8620b",
        "outputId": "1f180441-37dc-43f8-fa90-2bc99be0c2d8",
        "colab": {
          "base_uri": "https://localhost:8080/",
          "height": 468
        }
      },
      "outputs": [
        {
          "output_type": "display_data",
          "data": {
            "text/plain": [
              "<Figure size 500x500 with 2 Axes>"
            ],
            "image/png": "[encoded data removed]"
          },
          "metadata": {}
        }
      ],
      "source": [
        "import matplotlib.pyplot as plt\n",
        "%matplotlib inline\n",
        "\n",
        "mydata.hist(figsize=(5,5))\n",
        "plt.show()"
      ]
    },
    {
      "cell_type": "code",
      "execution_count": null,
      "id": "c4737ce8",
      "metadata": {
        "id": "c4737ce8",
        "outputId": "c008351c-62aa-4911-9079-d0a23606aaa1",
        "colab": {
          "base_uri": "https://localhost:8080/",
          "height": 449
        }
      },
      "outputs": [
        {
          "output_type": "stream",
          "name": "stderr",
          "text": [
            "<ipython-input-13-17ef620c3707>:1: FutureWarning: pivot_table dropped a column because it failed to aggregate. This behavior is deprecated and will raise in a future version of pandas. Select only the columns that can be aggregated.\n",
            "  pd.pivot_table(mydata, index=['Age','City'],\n"
          ]
        },
        {
          "output_type": "execute_result",
          "data": {
            "text/plain": [
              "                  Year of graduate                                 \n",
              "Job specilization             DBMS Graphic Designer Web Development\n",
              "Age City                                                           \n",
              "23  Slemani                 2021.0      2021.000000     2021.000000\n",
              "24  Slemani                 2020.0      2020.000000     2020.000000\n",
              "25  Slemani                 2019.0      2018.937500     2019.000000\n",
              "26  Slemani                 2018.0      2018.000000     2018.000000\n",
              "27  Slemani                 2017.0      2017.000000     2017.000000\n",
              "28  Slemani                 2016.0      2015.928571     2016.000000\n",
              "29  Slemani                 2015.0      2015.000000     2015.000000\n",
              "30  Slemani                 2014.0      2014.000000     2014.038462\n",
              "31  Slemani                 2013.0      2013.000000     2013.000000"
            ],
            "text/html": [
              "\n",
              "  <div id=\"df-42ff383e-737d-47a9-87db-04b126073a2a\">\n",
              "    <div class=\"colab-df-container\">\n",
              "      <div>\n",
              "<style scoped>\n",
              "    .dataframe tbody tr th:only-of-type {\n",
              "        vertical-align: middle;\n",
              "    }\n",
              "\n",
              "    .dataframe tbody tr th {\n",
              "        vertical-align: top;\n",
              "    }\n",
              "\n",
              "    .dataframe thead tr th {\n",
              "        text-align: left;\n",
              "    }\n",
              "\n",
              "    .dataframe thead tr:last-of-type th {\n",
              "        text-align: right;\n",
              "    }\n",
              "</style>\n",
              "<table border=\"1\" class=\"dataframe\">\n",
              "  <thead>\n",
              "    <tr>\n",
              "      <th></th>\n",
              "      <th></th>\n",
              "      <th colspan=\"3\" halign=\"left\">Year of graduate</th>\n",
              "    </tr>\n",
              "    <tr>\n",
              "      <th></th>\n",
              "      <th>Job specilization</th>\n",
              "      <th>DBMS</th>\n",
              "      <th>Graphic Designer</th>\n",
              "      <th>Web Development</th>\n",
              "    </tr>\n",
              "    <tr>\n",
              "      <th>Age</th>\n",
              "      <th>City</th>\n",
              "      <th></th>\n",
              "      <th></th>\n",
              "      <th></th>\n",
              "    </tr>\n",
              "  </thead>\n",
              "  <tbody>\n",
              "    <tr>\n",
              "      <th>23</th>\n",
              "      <th>Slemani</th>\n",
              "      <td>2021.0</td>\n",
              "      <td>2021.000000</td>\n",
              "      <td>2021.000000</td>\n",
              "    </tr>\n",
              "    <tr>\n",
              "      <th>24</th>\n",
              "      <th>Slemani</th>\n",
              "      <td>2020.0</td>\n",
              "      <td>2020.000000</td>\n",
              "      <td>2020.000000</td>\n",
              "    </tr>\n",
              "    <tr>\n",
              "      <th>25</th>\n",
              "      <th>Slemani</th>\n",
              "      <td>2019.0</td>\n",
              "      <td>2018.937500</td>\n",
              "      <td>2019.000000</td>\n",
              "    </tr>\n",
              "    <tr>\n",
              "      <th>26</th>\n",
              "      <th>Slemani</th>\n",
              "      <td>2018.0</td>\n",
              "      <td>2018.000000</td>\n",
              "      <td>2018.000000</td>\n",
              "    </tr>\n",
              "    <tr>\n",
              "      <th>27</th>\n",
              "      <th>Slemani</th>\n",
              "      <td>2017.0</td>\n",
              "      <td>2017.000000</td>\n",
              "      <td>2017.000000</td>\n",
              "    </tr>\n",
              "    <tr>\n",
              "      <th>28</th>\n",
              "      <th>Slemani</th>\n",
              "      <td>2016.0</td>\n",
              "      <td>2015.928571</td>\n",
              "      <td>2016.000000</td>\n",
              "    </tr>\n",
              "    <tr>\n",
              "      <th>29</th>\n",
              "      <th>Slemani</th>\n",
              "      <td>2015.0</td>\n",
              "      <td>2015.000000</td>\n",
              "      <td>2015.000000</td>\n",
              "    </tr>\n",
              "    <tr>\n",
              "      <th>30</th>\n",
              "      <th>Slemani</th>\n",
              "      <td>2014.0</td>\n",
              "      <td>2014.000000</td>\n",
              "      <td>2014.038462</td>\n",
              "    </tr>\n",
              "    <tr>\n",
              "      <th>31</th>\n",
              "      <th>Slemani</th>\n",
              "      <td>2013.0</td>\n",
              "      <td>2013.000000</td>\n",
              "      <td>2013.000000</td>\n",
              "    </tr>\n",
              "  </tbody>\n",
              "</table>\n",
              "</div>\n",
              "      <button class=\"colab-df-convert\" onclick=\"convertToInteractive('df-42ff383e-737d-47a9-87db-04b126073a2a')\"\n",
              "              title=\"Convert this dataframe to an interactive table.\"\n",
              "              style=\"display:none;\">\n",
              "        \n",
              "  <svg xmlns=\"http://www.w3.org/2000/svg\" height=\"24px\"viewBox=\"0 0 24 24\"\n",
              "       width=\"24px\">\n",
              "    <path d=\"M0 0h24v24H0V0z\" fill=\"none\"/>\n",
              "    <path d=\"M18.56 5.44l.94 2.06.94-2.06 2.06-.94-2.06-.94-.94-2.06-.94 2.06-2.06.94zm-11 1L8.5 8.5l.94-2.06 2.06-.94-2.06-.94L8.5 2.5l-.94 2.06-2.06.94zm10 10l.94 2.06.94-2.06 2.06-.94-2.06-.94-.94-2.06-.94 2.06-2.06.94z\"/><path d=\"M17.41 7.96l-1.37-1.37c-.4-.4-.92-.59-1.43-.59-.52 0-1.04.2-1.43.59L10.3 9.45l-7.72 7.72c-.78.78-.78 2.05 0 2.83L4 21.41c.39.39.9.59 1.41.59.51 0 1.02-.2 1.41-.59l7.78-7.78 2.81-2.81c.8-.78.8-2.07 0-2.86zM5.41 20L4 18.59l7.72-7.72 1.47 1.35L5.41 20z\"/>\n",
              "  </svg>\n",
              "      </button>\n",
              "      \n",
              "  <style>\n",
              "    .colab-df-container {\n",
              "      display:flex;\n",
              "      flex-wrap:wrap;\n",
              "      gap: 12px;\n",
              "    }\n",
              "\n",
              "    .colab-df-convert {\n",
              "      background-color: #E8F0FE;\n",
              "      border: none;\n",
              "      border-radius: 50%;\n",
              "      cursor: pointer;\n",
              "      display: none;\n",
              "      fill: #1967D2;\n",
              "      height: 32px;\n",
              "      padding: 0 0 0 0;\n",
              "      width: 32px;\n",
              "    }\n",
              "\n",
              "    .colab-df-convert:hover {\n",
              "      background-color: #E2EBFA;\n",
              "      box-shadow: 0px 1px 2px rgba(60, 64, 67, 0.3), 0px 1px 3px 1px rgba(60, 64, 67, 0.15);\n",
              "      fill: #174EA6;\n",
              "    }\n",
              "\n",
              "    [theme=dark] .colab-df-convert {\n",
              "      background-color: #3B4455;\n",
              "      fill: #D2E3FC;\n",
              "    }\n",
              "\n",
              "    [theme=dark] .colab-df-convert:hover {\n",
              "      background-color: #434B5C;\n",
              "      box-shadow: 0px 1px 3px 1px rgba(0, 0, 0, 0.15);\n",
              "      filter: drop-shadow(0px 1px 2px rgba(0, 0, 0, 0.3));\n",
              "      fill: #FFFFFF;\n",
              "    }\n",
              "  </style>\n",
              "\n",
              "      <script>\n",
              "        const buttonEl =\n",
              "          document.querySelector('#df-42ff383e-737d-47a9-87db-04b126073a2a button.colab-df-convert');\n",
              "        buttonEl.style.display =\n",
              "          google.colab.kernel.accessAllowed ? 'block' : 'none';\n",
              "\n",
              "        async function convertToInteractive(key) {\n",
              "          const element = document.querySelector('#df-42ff383e-737d-47a9-87db-04b126073a2a');\n",
              "          const dataTable =\n",
              "            await google.colab.kernel.invokeFunction('convertToInteractive',\n",
              "                                                     [key], {});\n",
              "          if (!dataTable) return;\n",
              "\n",
              "          const docLinkHtml = 'Like what you see? Visit the ' +\n",
              "            '<a target=\"_blank\" href=https://colab.research.google.com/notebooks/data_table.ipynb>data table notebook</a>'\n",
              "            + ' to learn more about interactive tables.';\n",
              "          element.innerHTML = '';\n",
              "          dataTable['output_type'] = 'display_data';\n",
              "          await google.colab.output.renderOutput(dataTable, element);\n",
              "          const docLink = document.createElement('div');\n",
              "          docLink.innerHTML = docLinkHtml;\n",
              "          element.appendChild(docLink);\n",
              "        }\n",
              "      </script>\n",
              "    </div>\n",
              "  </div>\n",
              "  "
            ]
          },
          "metadata": {},
          "execution_count": 13
        }
      ],
      "source": [
        "pd.pivot_table(mydata, index=['Age','City'],\n",
        "              columns=['Job specilization'])"
      ]
    },
    {
      "cell_type": "code",
      "execution_count": null,
      "id": "0a16f41d",
      "metadata": {
        "id": "0a16f41d",
        "outputId": "b15f9449-1b07-40cf-d0aa-11f21e4f4aa5",
        "colab": {
          "base_uri": "https://localhost:8080/"
        }
      },
      "outputs": [
        {
          "output_type": "execute_result",
          "data": {
            "text/plain": [
              "26"
            ]
          },
          "metadata": {},
          "execution_count": 14
        }
      ],
      "source": [
        "int (mydata['Age'].mean())"
      ]
    },
    {
      "cell_type": "code",
      "execution_count": null,
      "id": "410de24d",
      "metadata": {
        "id": "410de24d",
        "outputId": "2bb197ed-b2a8-4d14-ca23-897c062a8bf3",
        "colab": {
          "base_uri": "https://localhost:8080/"
        }
      },
      "outputs": [
        {
          "output_type": "execute_result",
          "data": {
            "text/plain": [
              "0    Male\n",
              "Name: Gender, dtype: object"
            ]
          },
          "metadata": {},
          "execution_count": 15
        }
      ],
      "source": [
        "mydata['Gender'].mode()"
      ]
    },
    {
      "cell_type": "code",
      "execution_count": null,
      "id": "a177eb1d",
      "metadata": {
        "id": "a177eb1d",
        "outputId": "0db7d689-a8e9-4db4-d175-653b9aedf276",
        "colab": {
          "base_uri": "https://localhost:8080/"
        }
      },
      "outputs": [
        {
          "output_type": "execute_result",
          "data": {
            "text/plain": [
              "26.5"
            ]
          },
          "metadata": {},
          "execution_count": 16
        }
      ],
      "source": [
        "mydata['Age'].median()"
      ]
    },
    {
      "cell_type": "code",
      "execution_count": null,
      "id": "8ba43a64",
      "metadata": {
        "id": "8ba43a64",
        "outputId": "7bf9c217-75f0-423d-be14-bbfdb07b30a8",
        "colab": {
          "base_uri": "https://localhost:8080/",
          "height": 466
        }
      },
      "outputs": [
        {
          "output_type": "execute_result",
          "data": {
            "text/plain": [
              "<Axes: xlabel='Gender', ylabel='Age'>"
            ]
          },
          "metadata": {},
          "execution_count": 17
        },
        {
          "output_type": "display_data",
          "data": {
            "text/plain": [
              "<Figure size 640x480 with 1 Axes>"
            ],
            "image/png": "[encoded data removed]"
          },
          "metadata": {}
        }
      ],
      "source": [
        "import seaborn as sns\n",
        "sns.boxplot(x='Gender', y='Age' , data=mydata)"
      ]
    },
    {
      "cell_type": "code",
      "execution_count": null,
      "id": "ca7d7e3d",
      "metadata": {
        "id": "ca7d7e3d",
        "outputId": "13509929-f077-4279-f1ba-012d235764e1",
        "colab": {
          "base_uri": "https://localhost:8080/",
          "height": 524
        }
      },
      "outputs": [
        {
          "output_type": "execute_result",
          "data": {
            "text/plain": [
              "<seaborn.axisgrid.FacetGrid at 0x7f8f97f77220>"
            ]
          },
          "metadata": {},
          "execution_count": 18
        },
        {
          "output_type": "display_data",
          "data": {
            "text/plain": [
              "<Figure size 500x500 with 1 Axes>"
            ],
            "image/png": "[encoded data removed]"
          },
          "metadata": {}
        }
      ],
      "source": [
        "sns.displot(mydata['Year of graduate'])"
      ]
    },
    {
      "cell_type": "code",
      "execution_count": 10,
      "id": "62c0e625",
      "metadata": {
        "id": "62c0e625"
      },
      "outputs": [],
      "source": [
        "import scipy.stats as st\n",
        "import seaborn as sns\n",
        "import matplotlib.pyplot as plt\n",
        "\n",
        "x=mydata['Year of graduate']\n",
        "x_mean=x.mean()\n"
      ]
    },
    {
      "cell_type": "code",
      "execution_count": null,
      "id": "16a1e585",
      "metadata": {
        "id": "16a1e585",
        "outputId": "cc20074d-802a-4c1a-e184-8655a81fc349",
        "colab": {
          "base_uri": "https://localhost:8080/",
          "height": 499
        }
      },
      "outputs": [
        {
          "output_type": "execute_result",
          "data": {
            "text/plain": [
              "(array([68., 44., 46., 55.,  0., 59., 76., 61., 66., 69.]),\n",
              " array([2013. , 2013.8, 2014.6, 2015.4, 2016.2, 2017. , 2017.8, 2018.6,\n",
              "        2019.4, 2020.2, 2021. ]),\n",
              " <BarContainer object of 10 artists>)"
            ]
          },
          "metadata": {},
          "execution_count": 42
        },
        {
          "output_type": "display_data",
          "data": {
            "text/plain": [
              "<Figure size 640x480 with 1 Axes>"
            ],
            "image/png": "[encoded data removed]"
          },
          "metadata": {}
        }
      ],
      "source": [
        "plt.axvline(x = x_mean,color='red')\n",
        "plt.hist(x,color='lightblue')"
      ]
    },
    {
      "cell_type": "code",
      "execution_count": null,
      "id": "0ecfce3f",
      "metadata": {
        "id": "0ecfce3f",
        "outputId": "cfe0cf2d-08b2-4959-bad1-6ec2ac6178b7",
        "colab": {
          "base_uri": "https://localhost:8080/",
          "height": 430
        }
      },
      "outputs": [
        {
          "output_type": "display_data",
          "data": {
            "text/plain": [
              "<Figure size 640x480 with 1 Axes>"
            ],
            "image/png": "[encoded data removed]"
          },
          "metadata": {}
        }
      ],
      "source": [
        "plt.axvline(x=np.mean(x), color='black')\n",
        "plt.axvline(x=np.median(x), color='yellow')\n",
        "_=plt.hist(x,color='lightblue')"
      ]
    },
    {
      "cell_type": "code",
      "execution_count": 11,
      "id": "334b7327",
      "metadata": {
        "id": "334b7327",
        "outputId": "3b89430c-7840-4e18-ea13-a5448140c1d1",
        "colab": {
          "base_uri": "https://localhost:8080/"
        }
      },
      "outputs": [
        {
          "output_type": "stream",
          "name": "stderr",
          "text": [
            "<ipython-input-11-f15e0d449bd8>:1: FutureWarning: The default value of numeric_only in DataFrame.var is deprecated. In a future version, it will default to False. In addition, specifying 'numeric_only=None' is deprecated. Select only valid columns or specify the value of numeric_only to silence this warning.\n",
            "  mydata.var()\n"
          ]
        },
        {
          "output_type": "execute_result",
          "data": {
            "text/plain": [
              "Age                 6.848324\n",
              "Year of graduate    6.839938\n",
              "dtype: float64"
            ]
          },
          "metadata": {},
          "execution_count": 11
        }
      ],
      "source": [
        "mydata.var()"
      ]
    },
    {
      "cell_type": "code",
      "execution_count": null,
      "id": "64e715ca",
      "metadata": {
        "id": "64e715ca",
        "outputId": "9037c55a-9f7b-47d9-de31-23ff88984d57",
        "colab": {
          "base_uri": "https://localhost:8080/"
        }
      },
      "outputs": [
        {
          "output_type": "stream",
          "name": "stderr",
          "text": [
            "<ipython-input-71-72c46489bcca>:1: FutureWarning: The default value of numeric_only in DataFrame.std is deprecated. In a future version, it will default to False. In addition, specifying 'numeric_only=None' is deprecated. Select only valid columns or specify the value of numeric_only to silence this warning.\n",
            "  sigma= mydata.std()\n"
          ]
        },
        {
          "output_type": "execute_result",
          "data": {
            "text/plain": [
              "Age                 2.616930\n",
              "Year of graduate    2.615328\n",
              "dtype: float64"
            ]
          },
          "metadata": {},
          "execution_count": 71
        }
      ],
      "source": [
        "sigma= mydata.std()\n",
        "sigma"
      ]
    },
    {
      "cell_type": "code",
      "execution_count": null,
      "id": "bc7f532f",
      "metadata": {
        "id": "bc7f532f",
        "outputId": "b02a2a11-c38b-4a5a-bb8e-fc7cf8c58ca0",
        "colab": {
          "base_uri": "https://localhost:8080/"
        }
      },
      "outputs": [
        {
          "output_type": "execute_result",
          "data": {
            "text/plain": [
              "Age                 0.042408\n",
              "Year of graduate    0.042382\n",
              "dtype: float64"
            ]
          },
          "metadata": {},
          "execution_count": 72
        }
      ],
      "source": [
        "sigma/(mydata.size)**(1/2)"
      ]
    },
    {
      "cell_type": "markdown",
      "source": [],
      "metadata": {
        "id": "f24mh4T1ySmC"
      },
      "id": "f24mh4T1ySmC"
    },
    {
      "cell_type": "code",
      "execution_count": 12,
      "id": "4d1b8d1f",
      "metadata": {
        "id": "4d1b8d1f",
        "outputId": "c610fc85-5b5c-4b6a-f8ae-b4441abd2eb1",
        "colab": {
          "base_uri": "https://localhost:8080/"
        }
      },
      "outputs": [
        {
          "output_type": "stream",
          "name": "stderr",
          "text": [
            "<ipython-input-12-673cadf5b5dd>:1: FutureWarning: The default value of numeric_only in DataFrame.mean is deprecated. In a future version, it will default to False. In addition, specifying 'numeric_only=None' is deprecated. Select only valid columns or specify the value of numeric_only to silence this warning.\n",
            "  xbar=mydata.mean()\n"
          ]
        },
        {
          "output_type": "execute_result",
          "data": {
            "text/plain": [
              "Age                   26.775735\n",
              "Year of graduate    2017.222426\n",
              "dtype: float64"
            ]
          },
          "metadata": {},
          "execution_count": 12
        }
      ],
      "source": [
        "xbar=mydata.mean()\n",
        "xbar"
      ]
    },
    {
      "cell_type": "code",
      "execution_count": null,
      "id": "df5dc7a0",
      "metadata": {
        "id": "df5dc7a0",
        "outputId": "a3298391-3ff9-4598-e64a-b37a8a55cfb8",
        "colab": {
          "base_uri": "https://localhost:8080/",
          "height": 430
        }
      },
      "outputs": [
        {
          "output_type": "display_data",
          "data": {
            "text/plain": [
              "<Figure size 640x480 with 1 Axes>"
            ],
            "image/png": "[encoded data removed]"
          },
          "metadata": {}
        }
      ],
      "source": [
        "sigma = x.std()\n",
        "xbar = x.mean()\n",
        "\n",
        "fig ,ax=plt.subplots()\n",
        "plt.axvline(x=xbar , color='brown')\n",
        "plt.axvline(x=xbar+sigma , color='black')\n",
        "plt.axvline(x=xbar-sigma , color='black')\n",
        "_=plt.hist(x,color='lightblue')\n",
        "#plt.show()"
      ]
    },
    {
      "cell_type": "code",
      "execution_count": null,
      "id": "7ece5002",
      "metadata": {
        "id": "7ece5002",
        "outputId": "13639a26-144c-40b1-bea0-df26651e17a4",
        "colab": {
          "base_uri": "https://localhost:8080/"
        }
      },
      "outputs": [
        {
          "output_type": "execute_result",
          "data": {
            "text/plain": [
              "0.1120967835624071"
            ]
          },
          "metadata": {},
          "execution_count": 75
        }
      ],
      "source": [
        "x=mydata['Age']\n",
        "st.sem(x,ddof=0)"
      ]
    },
    {
      "cell_type": "code",
      "execution_count": null,
      "id": "18788c82",
      "metadata": {
        "id": "18788c82",
        "outputId": "a32800a7-8f0a-43ed-9bfc-2c33871869e2",
        "colab": {
          "base_uri": "https://localhost:8080/"
        }
      },
      "outputs": [
        {
          "output_type": "execute_result",
          "data": {
            "text/plain": [
              "0.11219995595752089"
            ]
          },
          "metadata": {},
          "execution_count": 76
        }
      ],
      "source": [
        "st.sem(x,ddof=1)"
      ]
    },
    {
      "cell_type": "code",
      "execution_count": null,
      "id": "238a5735",
      "metadata": {
        "id": "238a5735",
        "outputId": "ed30866e-92a5-42a0-ee84-4a2b310adc89",
        "colab": {
          "base_uri": "https://localhost:8080/",
          "height": 507
        }
      },
      "outputs": [
        {
          "output_type": "display_data",
          "data": {
            "text/plain": [
              "<Figure size 500x500 with 1 Axes>"
            ],
            "image/png": "[encoded data removed]"
          },
          "metadata": {}
        }
      ],
      "source": [
        "x=np.random.normal(size=4000)\n",
        "\n",
        "sns.set_style('ticks')\n",
        "\n",
        "_=sns.displot(x, kde=True)"
      ]
    },
    {
      "cell_type": "code",
      "execution_count": null,
      "id": "80b306ed",
      "metadata": {
        "id": "80b306ed",
        "outputId": "229d16ae-5eb8-4e08-fa84-7aa1d6123012",
        "colab": {
          "base_uri": "https://localhost:8080/"
        }
      },
      "outputs": [
        {
          "output_type": "execute_result",
          "data": {
            "text/plain": [
              "1.0114543343815707"
            ]
          },
          "metadata": {},
          "execution_count": 81
        }
      ],
      "source": [
        "x.std()"
      ]
    },
    {
      "cell_type": "code",
      "execution_count": null,
      "id": "8023b481",
      "metadata": {
        "id": "8023b481",
        "outputId": "0cb23226-ffa3-4008-d978-0b6337d820f1",
        "colab": {
          "base_uri": "https://localhost:8080/"
        }
      },
      "outputs": [
        {
          "output_type": "execute_result",
          "data": {
            "text/plain": [
              "array([2020, 2020, 2021, 2015, 2017, 2016, 2014, 2018, 2017, 2018, 2017,\n",
              "       2014, 2015, 2016, 2019, 2018, 2018, 2019, 2018, 2021])"
            ]
          },
          "metadata": {},
          "execution_count": 87
        }
      ],
      "source": [
        "x_sample=np.random.choice(mydata['Year of graduate'],size=20, replace=False)\n",
        "x_sample"
      ]
    },
    {
      "cell_type": "code",
      "execution_count": null,
      "id": "2f000292",
      "metadata": {
        "id": "2f000292",
        "outputId": "84aab76f-3fdb-4185-b954-8a310f108182",
        "colab": {
          "base_uri": "https://localhost:8080/"
        }
      },
      "outputs": [
        {
          "output_type": "execute_result",
          "data": {
            "text/plain": [
              "2017.55"
            ]
          },
          "metadata": {},
          "execution_count": 91
        }
      ],
      "source": [
        "x_sample.mean()"
      ]
    },
    {
      "cell_type": "code",
      "source": [],
      "metadata": {
        "id": "bq5JTWLlCnxJ"
      },
      "id": "bq5JTWLlCnxJ",
      "execution_count": null,
      "outputs": []
    },
    {
      "cell_type": "code",
      "execution_count": null,
      "id": "2d4771c9",
      "metadata": {
        "id": "2d4771c9"
      },
      "outputs": [],
      "source": []
    }
  ],
  "metadata": {
    "kernelspec": {
      "display_name": "Python 3 (ipykernel)",
      "language": "python",
      "name": "python3"
    },
    "language_info": {
      "codemirror_mode": {
        "name": "ipython",
        "version": 3
      },
      "file_extension": ".py",
      "mimetype": "text/x-python",
      "name": "python",
      "nbconvert_exporter": "python",
      "pygments_lexer": "ipython3",
      "version": "3.9.13"
    },
    "colab": {
      "provenance": [],
      "include_colab_link": true
    }
  },
  "nbformat": 4,
  "nbformat_minor": 5
}